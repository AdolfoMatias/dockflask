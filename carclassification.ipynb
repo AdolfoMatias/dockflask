{
 "cells": [
  {
   "cell_type": "code",
   "execution_count": null,
   "metadata": {},
   "outputs": [],
   "source": [
    "import pandas as pd\n",
    "\n",
    "import matplotlib.pyplot as plt\n",
    "import mlflow\n",
    "\n",
    "from sklearn.model_selection import train_test_split, cross_val_score, KFold\n",
    "from sklearn.metrics import accuracy_score,precision_score,recall_score,f1_score, confusion_matrix, ConfusionMatrixDisplay\n",
    "from sklearn.naive_bayes import GaussianNB\n",
    "from sklearn.tree import DecisionTreeClassifier\n",
    "from sklearn.ensemble import RandomForestClassifier, GradientBoostingClassifier\n",
    "\n",
    "% matplolib inline"
   ]
  },
  {
   "cell_type": "code",
   "execution_count": null,
   "metadata": {},
   "outputs": [],
   "source": [
    "datawoman = pd.read_csv(\"mammographic_masses.data\", header=None)\n",
    "datawoman.head()"
   ]
  },
  {
   "cell_type": "markdown",
   "metadata": {},
   "source": [
    "## 1  Análise Exploratória de Dados\n"
   ]
  },
  {
   "cell_type": "code",
   "execution_count": null,
   "metadata": {},
   "outputs": [],
   "source": [
    "datawoman.head()"
   ]
  },
  {
   "cell_type": "code",
   "execution_count": null,
   "metadata": {},
   "outputs": [],
   "source": [
    "#formato do dado\n",
    "datawoman.shape"
   ]
  },
  {
   "cell_type": "code",
   "execution_count": null,
   "metadata": {},
   "outputs": [],
   "source": [
    "#valores NA\n",
    "datawoman.isnull().sum()"
   ]
  },
  {
   "cell_type": "code",
   "execution_count": null,
   "metadata": {},
   "outputs": [],
   "source": [
    "#Veja que não é verdade alguns dados apresentam ?  irei substituir pela mediana logo\n",
    "for coluna in datawoman.columns:\n",
    "    print(f'{coluna}: {datawoman[coluna].unique()}')"
   ]
  },
  {
   "cell_type": "code",
   "execution_count": null,
   "metadata": {},
   "outputs": [],
   "source": [
    "datawoman.info()"
   ]
  },
  {
   "cell_type": "markdown",
   "metadata": {},
   "source": [
    "## 2 Pré-Processamento"
   ]
  },
  {
   "cell_type": "code",
   "execution_count": null,
   "metadata": {},
   "outputs": [],
   "source": [
    "#renomenado colunas sem nome\n",
    "datawoman.columns = [\"birads\", \"age\", \"shapemass\", \"margemass\", \"densidade\", \"gravidade\"]"
   ]
  },
  {
   "cell_type": "code",
   "execution_count": null,
   "metadata": {},
   "outputs": [],
   "source": [
    "#mediana em dados que possuem valores ?\n",
    "def aplicar_mediana():\n",
    "    for coluna in datawoman.columns:\n",
    "        moda = datawoman[coluna].mode()[0]\n",
    "        datawoman[coluna] = datawoman[coluna].replace(\"?\",moda)\n",
    "aplicar_mediana()"
   ]
  },
  {
   "cell_type": "code",
   "execution_count": null,
   "metadata": {},
   "outputs": [],
   "source": [
    "def verificar_unicos():\n",
    "    for coluna in datawoman.columns:\n",
    "        print(f'{coluna}: {datawoman[coluna].unique()}')\n",
    "verificar_unicos()"
   ]
  },
  {
   "cell_type": "code",
   "execution_count": null,
   "metadata": {},
   "outputs": [],
   "source": [
    "#codificando os dados em dummies\n",
    "def muda_tipo():\n",
    "    for coluna in datawoman.select_dtypes(include=\"object\"):\n",
    "        datawoman[coluna] = datawoman[coluna].astype(\"int32\")\n",
    "muda_tipo()"
   ]
  },
  {
   "cell_type": "code",
   "execution_count": null,
   "metadata": {},
   "outputs": [],
   "source": [
    "datawoman.info()"
   ]
  },
  {
   "cell_type": "markdown",
   "metadata": {},
   "source": [
    "## 3 Separando previsores e classe e treino/teste"
   ]
  },
  {
   "cell_type": "code",
   "execution_count": null,
   "metadata": {},
   "outputs": [],
   "source": [
    "previsores = datawoman.iloc[:,0:5].values\n",
    "classe =datawoman.iloc[:,5].values"
   ]
  },
  {
   "cell_type": "code",
   "execution_count": null,
   "metadata": {},
   "outputs": [],
   "source": [
    "X_train,X_test,y_train,y_test = train_test_split(previsores, classe, test_size=0.3, random_state=42)"
   ]
  },
  {
   "cell_type": "markdown",
   "metadata": {},
   "source": [
    "## 4 Criação de Modelo e Predição"
   ]
  },
  {
   "cell_type": "code",
   "execution_count": null,
   "metadata": {},
   "outputs": [],
   "source": [
    "c1 = GaussianNB()\n",
    "c2 = DecisionTreeClassifier(min_samples_leaf=6)\n",
    "c3 = RandomForestClassifier(n_estimators=5000,random_state=42, min_samples_leaf=6)\n",
    "c4 = GradientBoostingClassifier(n_estimators=1000, learning_rate=0.08, random_state=42, max_depth=4)\n",
    "clfs =  [c1,c2,c3,c4]\n",
    "\n",
    "def criador_modelo():\n",
    "    for clf in clfs:\n",
    "        modelo = clf.fit(X_train, y_train)\n",
    "        previsao = modelo.predict(X_test)\n",
    "        acuracia= accuracy_score(y_test, previsao)\n",
    "        precisao = precision_score(y_test, previsao)\n",
    "        revocacao = recall_score(y_test, previsao)\n",
    "        f1score = f1_score(y_test, previsao)\n",
    "\n",
    "        print(f\"\"\"\n",
    "        Modelo: {clf}\n",
    "        Acurácia: {acuracia}\n",
    "        Precisão: {precisao}\n",
    "        Recall: {revocacao}\n",
    "        F1-score: {f1score}\n",
    "        \"\"\")\n",
    "\n",
    "criador_modelo()"
   ]
  },
  {
   "cell_type": "code",
   "execution_count": null,
   "metadata": {},
   "outputs": [],
   "source": [
    "\n",
    "mlflow.set_experiment(\"Mamograph\")\n",
    "with mlflow.start_run():\n",
    "    c1 = GaussianNB()\n",
    "    c2 = DecisionTreeClassifier(min_samples_leaf=6)\n",
    "    #estiamdor\n",
    "    ms = 6\n",
    "    c3 = RandomForestClassifier(n_estimators=5000,random_state=42, min_samples_leaf=6)\n",
    "    #estimadores\n",
    "    ne=1000\n",
    "    mrs=6\n",
    "    c4 = GradientBoostingClassifier(n_estimators=1000, learning_rate=0.09, random_state=42, max_depth=4)\n",
    "    #estimadores\n",
    "    nxe=1000\n",
    "    lr=0.01\n",
    "    md=4\n",
    "\n",
    "    clfs =  [c1,c2,c3,c4]\n",
    "    contador=0\n",
    "    contar=0\n",
    "    for clf in clfs:\n",
    "        modelo = clf.fit(X_train, y_train)\n",
    "        previsao = modelo.predict(X_test)\n",
    "        acuracia= accuracy_score(y_test, previsao)\n",
    "        precisao = precision_score(y_test, previsao)\n",
    "        revocacao = recall_score(y_test, previsao)\n",
    "        f1score = f1_score(y_test, previsao)\n",
    "        confusao = confusion_matrix(y_test, previsao)\n",
    "\n",
    "        print(f\"\"\"\n",
    "        Modelo: {clf}\n",
    "        Acurácia: {acuracia}\n",
    "        Precisão: {precisao}\n",
    "        Recall: {revocacao}\n",
    "        F1-score: {f1score}\n",
    "        \"\"\")\n",
    "        #parametros\n",
    "        \n",
    "        if contador==1:\n",
    "            mlflow.log_param(\"min_samples_leaf\", ms)\n",
    "        elif contador ==2:\n",
    "            mlflow.log_param(\"n_estimators\", ne)\n",
    "            mlflow.log_param(\"min_sampels_leaf\", mrs)\n",
    "            \n",
    "        elif contador==3:\n",
    "            mlflow.log_param(\"n_estimators\", nxe)\n",
    "            mlflow.log_param(\"learning_rate\", lr)\n",
    "            mlflow.log_param(\"max-depth\", md)\n",
    "        contador+=1\n",
    "        \n",
    "        categorias = [\"benign\", \"malignant\"]\n",
    "        confusao = ConfusionMatrixDisplay(confusao,display_labels=categorias)\n",
    "        confusao.plot()\n",
    "        plt.savefig(\"confusao.png\")\n",
    "        mlflow.log_artifact(\"confusao.png\")\n",
    "\n",
    "\n",
    "        #metricas\n",
    "        mlflow.log_metric(\"acuracia\", acuracia)\n",
    "        mlflow.log_metric(\"precisao\", precisao)\n",
    "        mlflow.log_metric(\"recall\", revocacao)\n",
    "        mlflow.log_metric(\"f1score\", f1score)\n",
    "\n",
    "\n",
    "        #salvando imagens\n",
    "       \n",
    "      \n",
    "        #modelo\n",
    "        \n",
    "        cla = [\"NaiveBayes\", \"DecisionTress\", \"RandomForest\", \"GradientBoost\"]\n",
    "    \n",
    "        mlflow.sklearn.log_model(modelo,cla[contar])\n",
    "        print(\"Modelo: \", mlflow.active_run().info.run_uuid)\n",
    "        contar+=1\n",
    "\n",
    "mlflow.end_run()"
   ]
  },
  {
   "cell_type": "markdown",
   "metadata": {},
   "source": [
    "## Referências"
   ]
  },
  {
   "cell_type": "markdown",
   "metadata": {},
   "source": [
    "https://archive.ics.uci.edu/ml/datasets/Mammographic+Mass"
   ]
  }
 ],
 "metadata": {
  "interpreter": {
   "hash": "f68f6cd6282cc041c726a556bfd5470992427e6af167974d2a62cfcf0d28baa1"
  },
  "kernelspec": {
   "display_name": "Python 3.10.1 ('newp': venv)",
   "language": "python",
   "name": "python3"
  },
  "language_info": {
   "codemirror_mode": {
    "name": "ipython",
    "version": 3
   },
   "file_extension": ".py",
   "mimetype": "text/x-python",
   "name": "python",
   "nbconvert_exporter": "python",
   "pygments_lexer": "ipython3",
   "version": "3.10.1"
  },
  "orig_nbformat": 4
 },
 "nbformat": 4,
 "nbformat_minor": 2
}
