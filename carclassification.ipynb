{
 "cells": [
  {
   "cell_type": "code",
   "execution_count": 68,
   "metadata": {},
   "outputs": [
    {
     "name": "stderr",
     "output_type": "stream",
     "text": [
      "UsageError: Line magic function `%` not found.\n"
     ]
    }
   ],
   "source": [
    "import pandas as pd\n",
    "import numpy as np\n",
    "import matplotlib.pyplot as plt\n",
    "import mlflow\n",
    "from sklearn.model_selection import train_test_split, cross_val_score, KFold\n",
    "from sklearn.metrics import accuracy_score,precision_score,recall_score,f1_score, confusion_matrix, ConfusionMatrixDisplay\n",
    "from sklearn.naive_bayes import GaussianNB\n",
    "from sklearn.tree import DecisionTreeClassifier\n",
    "from sklearn.ensemble import RandomForestClassifier, GradientBoostingClassifier\n",
    "\n",
    "% matplolib inline"
   ]
  },
  {
   "cell_type": "code",
   "execution_count": 39,
   "metadata": {},
   "outputs": [
    {
     "data": {
      "text/html": [
       "<div>\n",
       "<style scoped>\n",
       "    .dataframe tbody tr th:only-of-type {\n",
       "        vertical-align: middle;\n",
       "    }\n",
       "\n",
       "    .dataframe tbody tr th {\n",
       "        vertical-align: top;\n",
       "    }\n",
       "\n",
       "    .dataframe thead th {\n",
       "        text-align: right;\n",
       "    }\n",
       "</style>\n",
       "<table border=\"1\" class=\"dataframe\">\n",
       "  <thead>\n",
       "    <tr style=\"text-align: right;\">\n",
       "      <th></th>\n",
       "      <th>0</th>\n",
       "      <th>1</th>\n",
       "      <th>2</th>\n",
       "      <th>3</th>\n",
       "      <th>4</th>\n",
       "      <th>5</th>\n",
       "    </tr>\n",
       "  </thead>\n",
       "  <tbody>\n",
       "    <tr>\n",
       "      <th>0</th>\n",
       "      <td>5</td>\n",
       "      <td>67</td>\n",
       "      <td>3</td>\n",
       "      <td>5</td>\n",
       "      <td>3</td>\n",
       "      <td>1</td>\n",
       "    </tr>\n",
       "    <tr>\n",
       "      <th>1</th>\n",
       "      <td>4</td>\n",
       "      <td>43</td>\n",
       "      <td>1</td>\n",
       "      <td>1</td>\n",
       "      <td>?</td>\n",
       "      <td>1</td>\n",
       "    </tr>\n",
       "    <tr>\n",
       "      <th>2</th>\n",
       "      <td>5</td>\n",
       "      <td>58</td>\n",
       "      <td>4</td>\n",
       "      <td>5</td>\n",
       "      <td>3</td>\n",
       "      <td>1</td>\n",
       "    </tr>\n",
       "    <tr>\n",
       "      <th>3</th>\n",
       "      <td>4</td>\n",
       "      <td>28</td>\n",
       "      <td>1</td>\n",
       "      <td>1</td>\n",
       "      <td>3</td>\n",
       "      <td>0</td>\n",
       "    </tr>\n",
       "    <tr>\n",
       "      <th>4</th>\n",
       "      <td>5</td>\n",
       "      <td>74</td>\n",
       "      <td>1</td>\n",
       "      <td>5</td>\n",
       "      <td>?</td>\n",
       "      <td>1</td>\n",
       "    </tr>\n",
       "  </tbody>\n",
       "</table>\n",
       "</div>"
      ],
      "text/plain": [
       "   0   1  2  3  4  5\n",
       "0  5  67  3  5  3  1\n",
       "1  4  43  1  1  ?  1\n",
       "2  5  58  4  5  3  1\n",
       "3  4  28  1  1  3  0\n",
       "4  5  74  1  5  ?  1"
      ]
     },
     "execution_count": 39,
     "metadata": {},
     "output_type": "execute_result"
    }
   ],
   "source": [
    "datawoman = pd.read_csv(\"mammographic_masses.data\", header=None)\n",
    "datawoman.head()"
   ]
  },
  {
   "cell_type": "markdown",
   "metadata": {},
   "source": [
    "## 1  Análise Exploratória de Dados\n"
   ]
  },
  {
   "cell_type": "code",
   "execution_count": 30,
   "metadata": {},
   "outputs": [
    {
     "data": {
      "text/html": [
       "<div>\n",
       "<style scoped>\n",
       "    .dataframe tbody tr th:only-of-type {\n",
       "        vertical-align: middle;\n",
       "    }\n",
       "\n",
       "    .dataframe tbody tr th {\n",
       "        vertical-align: top;\n",
       "    }\n",
       "\n",
       "    .dataframe thead th {\n",
       "        text-align: right;\n",
       "    }\n",
       "</style>\n",
       "<table border=\"1\" class=\"dataframe\">\n",
       "  <thead>\n",
       "    <tr style=\"text-align: right;\">\n",
       "      <th></th>\n",
       "      <th>birads</th>\n",
       "      <th>age</th>\n",
       "      <th>shapemass</th>\n",
       "      <th>margemass</th>\n",
       "      <th>densidade</th>\n",
       "      <th>gravidade</th>\n",
       "    </tr>\n",
       "  </thead>\n",
       "  <tbody>\n",
       "    <tr>\n",
       "      <th>0</th>\n",
       "      <td>5</td>\n",
       "      <td>67</td>\n",
       "      <td>3</td>\n",
       "      <td>5</td>\n",
       "      <td>3</td>\n",
       "      <td>1</td>\n",
       "    </tr>\n",
       "    <tr>\n",
       "      <th>1</th>\n",
       "      <td>4</td>\n",
       "      <td>43</td>\n",
       "      <td>1</td>\n",
       "      <td>1</td>\n",
       "      <td>?</td>\n",
       "      <td>1</td>\n",
       "    </tr>\n",
       "    <tr>\n",
       "      <th>2</th>\n",
       "      <td>5</td>\n",
       "      <td>58</td>\n",
       "      <td>4</td>\n",
       "      <td>5</td>\n",
       "      <td>3</td>\n",
       "      <td>1</td>\n",
       "    </tr>\n",
       "    <tr>\n",
       "      <th>3</th>\n",
       "      <td>4</td>\n",
       "      <td>28</td>\n",
       "      <td>1</td>\n",
       "      <td>1</td>\n",
       "      <td>3</td>\n",
       "      <td>0</td>\n",
       "    </tr>\n",
       "    <tr>\n",
       "      <th>4</th>\n",
       "      <td>5</td>\n",
       "      <td>74</td>\n",
       "      <td>1</td>\n",
       "      <td>5</td>\n",
       "      <td>?</td>\n",
       "      <td>1</td>\n",
       "    </tr>\n",
       "  </tbody>\n",
       "</table>\n",
       "</div>"
      ],
      "text/plain": [
       "  birads age shapemass margemass densidade  gravidade\n",
       "0      5  67         3         5         3          1\n",
       "1      4  43         1         1         ?          1\n",
       "2      5  58         4         5         3          1\n",
       "3      4  28         1         1         3          0\n",
       "4      5  74         1         5         ?          1"
      ]
     },
     "execution_count": 30,
     "metadata": {},
     "output_type": "execute_result"
    }
   ],
   "source": [
    "datawoman.head()"
   ]
  },
  {
   "cell_type": "code",
   "execution_count": 28,
   "metadata": {},
   "outputs": [
    {
     "data": {
      "text/plain": [
       "(961, 6)"
      ]
     },
     "execution_count": 28,
     "metadata": {},
     "output_type": "execute_result"
    }
   ],
   "source": [
    "#formato do dado\n",
    "datawoman.shape"
   ]
  },
  {
   "cell_type": "code",
   "execution_count": 31,
   "metadata": {},
   "outputs": [
    {
     "data": {
      "text/plain": [
       "birads       0\n",
       "age          0\n",
       "shapemass    0\n",
       "margemass    0\n",
       "densidade    0\n",
       "gravidade    0\n",
       "dtype: int64"
      ]
     },
     "execution_count": 31,
     "metadata": {},
     "output_type": "execute_result"
    }
   ],
   "source": [
    "#valores NA\n",
    "datawoman.isnull().sum()"
   ]
  },
  {
   "cell_type": "code",
   "execution_count": 40,
   "metadata": {},
   "outputs": [
    {
     "name": "stdout",
     "output_type": "stream",
     "text": [
      "0: ['5' '4' '3' '?' '2' '55' '0' '6']\n",
      "1: ['67' '43' '58' '28' '74' '65' '70' '42' '57' '60' '76' '64' '36' '54'\n",
      " '52' '59' '40' '66' '56' '75' '63' '45' '55' '46' '39' '81' '77' '48'\n",
      " '78' '50' '61' '62' '44' '23' '80' '53' '49' '51' '25' '72' '73' '68'\n",
      " '33' '47' '29' '34' '71' '84' '24' '86' '41' '87' '21' '19' '35' '37'\n",
      " '79' '85' '69' '38' '32' '27' '83' '88' '26' '31' '?' '18' '82' '93' '30'\n",
      " '22' '96' '20']\n",
      "2: ['3' '1' '4' '?' '2']\n",
      "3: ['5' '1' '?' '4' '3' '2']\n",
      "4: ['3' '?' '1' '2' '4']\n",
      "5: [1 0]\n"
     ]
    }
   ],
   "source": [
    "#Veja que não é verdade alguns dados apresentam ?  irei substituir pela mediana logo\n",
    "for coluna in datawoman.columns:\n",
    "    print(f'{coluna}: {datawoman[coluna].unique()}')"
   ]
  },
  {
   "cell_type": "code",
   "execution_count": 32,
   "metadata": {},
   "outputs": [
    {
     "name": "stdout",
     "output_type": "stream",
     "text": [
      "<class 'pandas.core.frame.DataFrame'>\n",
      "RangeIndex: 961 entries, 0 to 960\n",
      "Data columns (total 6 columns):\n",
      " #   Column     Non-Null Count  Dtype \n",
      "---  ------     --------------  ----- \n",
      " 0   birads     961 non-null    object\n",
      " 1   age        961 non-null    object\n",
      " 2   shapemass  961 non-null    object\n",
      " 3   margemass  961 non-null    object\n",
      " 4   densidade  961 non-null    object\n",
      " 5   gravidade  961 non-null    int64 \n",
      "dtypes: int64(1), object(5)\n",
      "memory usage: 45.2+ KB\n"
     ]
    }
   ],
   "source": [
    "datawoman.info()"
   ]
  },
  {
   "cell_type": "markdown",
   "metadata": {},
   "source": [
    "## 2 Pré-Processamento"
   ]
  },
  {
   "cell_type": "code",
   "execution_count": 29,
   "metadata": {},
   "outputs": [],
   "source": [
    "#renomenado colunas sem nome\n",
    "datawoman.columns = [\"birads\", \"age\", \"shapemass\", \"margemass\", \"densidade\", \"gravidade\"]"
   ]
  },
  {
   "cell_type": "code",
   "execution_count": 55,
   "metadata": {},
   "outputs": [],
   "source": [
    "#mediana em dados que possuem valores ?\n",
    "def aplicar_mediana():\n",
    "    for coluna in datawoman.columns:\n",
    "        moda = datawoman[coluna].mode()[0]\n",
    "        datawoman[coluna] = datawoman[coluna].replace(\"?\",moda)\n",
    "aplicar_mediana()"
   ]
  },
  {
   "cell_type": "code",
   "execution_count": 57,
   "metadata": {},
   "outputs": [
    {
     "name": "stdout",
     "output_type": "stream",
     "text": [
      "0: ['5' '4' '3' '2' '55' '0' '6']\n",
      "1: ['67' '43' '58' '28' '74' '65' '70' '42' '57' '60' '76' '64' '36' '54'\n",
      " '52' '59' '40' '66' '56' '75' '63' '45' '55' '46' '39' '81' '77' '48'\n",
      " '78' '50' '61' '62' '44' '23' '80' '53' '49' '51' '25' '72' '73' '68'\n",
      " '33' '47' '29' '34' '71' '84' '24' '86' '41' '87' '21' '19' '35' '37'\n",
      " '79' '85' '69' '38' '32' '27' '83' '88' '26' '31' '18' '82' '93' '30'\n",
      " '22' '96' '20']\n",
      "2: ['3' '1' '4' '2']\n",
      "3: ['5' '1' '4' '3' '2']\n",
      "4: ['3' '1' '2' '4']\n",
      "5: [1 0]\n"
     ]
    }
   ],
   "source": [
    "def verificar_unicos():\n",
    "    for coluna in datawoman.columns:\n",
    "        print(f'{coluna}: {datawoman[coluna].unique()}')\n",
    "verificar_unicos()"
   ]
  },
  {
   "cell_type": "code",
   "execution_count": 58,
   "metadata": {},
   "outputs": [],
   "source": [
    "#codificando os dados em dummies\n",
    "def muda_tipo():\n",
    "    for coluna in datawoman.select_dtypes(include=\"object\"):\n",
    "        datawoman[coluna] = datawoman[coluna].astype(\"int32\")\n",
    "muda_tipo()"
   ]
  },
  {
   "cell_type": "code",
   "execution_count": 59,
   "metadata": {},
   "outputs": [
    {
     "name": "stdout",
     "output_type": "stream",
     "text": [
      "<class 'pandas.core.frame.DataFrame'>\n",
      "RangeIndex: 961 entries, 0 to 960\n",
      "Data columns (total 6 columns):\n",
      " #   Column  Non-Null Count  Dtype\n",
      "---  ------  --------------  -----\n",
      " 0   0       961 non-null    int32\n",
      " 1   1       961 non-null    int32\n",
      " 2   2       961 non-null    int32\n",
      " 3   3       961 non-null    int32\n",
      " 4   4       961 non-null    int32\n",
      " 5   5       961 non-null    int64\n",
      "dtypes: int32(5), int64(1)\n",
      "memory usage: 26.4 KB\n"
     ]
    }
   ],
   "source": [
    "datawoman.info()"
   ]
  },
  {
   "cell_type": "code",
   "execution_count": 60,
   "metadata": {},
   "outputs": [],
   "source": [
    "previsores = datawoman.iloc[:,0:5].values\n",
    "classe =datawoman.iloc[:,5].values"
   ]
  },
  {
   "cell_type": "code",
   "execution_count": 62,
   "metadata": {},
   "outputs": [],
   "source": [
    "X_train,X_test,y_train,y_test = train_test_split(previsores, classe, test_size=0.3, random_state=42)"
   ]
  },
  {
   "cell_type": "code",
   "execution_count": 65,
   "metadata": {},
   "outputs": [
    {
     "name": "stdout",
     "output_type": "stream",
     "text": [
      "\n",
      "        Modelo: GaussianNB()\n",
      "        Acurácia: 0.8304498269896193\n",
      "        Precisão: 0.8074074074074075\n",
      "        Recall: 0.8257575757575758\n",
      "        F1-score: 0.8164794007490637\n",
      "        \n",
      "\n",
      "        Modelo: DecisionTreeClassifier(min_samples_leaf=6)\n",
      "        Acurácia: 0.8235294117647058\n",
      "        Precisão: 0.8403361344537815\n",
      "        Recall: 0.7575757575757576\n",
      "        F1-score: 0.796812749003984\n",
      "        \n",
      "\n",
      "        Modelo: RandomForestClassifier(min_samples_leaf=6, n_estimators=1000, random_state=42)\n",
      "        Acurácia: 0.8408304498269896\n",
      "        Precisão: 0.8359375\n",
      "        Recall: 0.8106060606060606\n",
      "        F1-score: 0.8230769230769232\n",
      "        \n",
      "\n",
      "        Modelo: GradientBoostingClassifier(learning_rate=0.01, max_depth=4, n_estimators=1000,\n",
      "                           random_state=42)\n",
      "        Acurácia: 0.8166089965397924\n",
      "        Precisão: 0.8211382113821138\n",
      "        Recall: 0.7651515151515151\n",
      "        F1-score: 0.7921568627450979\n",
      "        \n"
     ]
    }
   ],
   "source": [
    "c1 = GaussianNB()\n",
    "c2 = DecisionTreeClassifier(min_samples_leaf=6)\n",
    "c3 = RandomForestClassifier(n_estimators=1000,random_state=42, min_samples_leaf=6)\n",
    "c4 = GradientBoostingClassifier(n_estimators=1000, learning_rate=0.01, random_state=42, max_depth=4)\n",
    "clfs =  [c1,c2,c3,c4]\n",
    "\n",
    "def criador_modelo():\n",
    "    for clf in clfs:\n",
    "        modelo = clf.fit(X_train, y_train)\n",
    "        previsao = modelo.predict(X_test)\n",
    "        acuracia= accuracy_score(y_test, previsao)\n",
    "        precisao = precision_score(y_test, previsao)\n",
    "        revocacao = recall_score(y_test, previsao)\n",
    "        f1score = f1_score(y_test, previsao)\n",
    "\n",
    "        print(f\"\"\"\n",
    "        Modelo: {clf}\n",
    "        Acurácia: {acuracia}\n",
    "        Precisão: {precisao}\n",
    "        Recall: {revocacao}\n",
    "        F1-score: {f1score}\n",
    "        \"\"\")\n",
    "\n",
    "criador_modelo()"
   ]
  },
  {
   "cell_type": "code",
   "execution_count": 73,
   "metadata": {},
   "outputs": [
    {
     "name": "stdout",
     "output_type": "stream",
     "text": [
      "\n",
      "        Modelo: GaussianNB()\n",
      "        Acurácia: 0.8304498269896193\n",
      "        Precisão: 0.8074074074074075\n",
      "        Recall: 0.8257575757575758\n",
      "        F1-score: 0.8164794007490637\n",
      "        \n",
      "Modelo:  3964dc6883484094aa60bebb6192b2e1\n",
      "\n",
      "        Modelo: DecisionTreeClassifier(min_samples_leaf=6)\n",
      "        Acurácia: 0.8235294117647058\n",
      "        Precisão: 0.8403361344537815\n",
      "        Recall: 0.7575757575757576\n",
      "        F1-score: 0.796812749003984\n",
      "        \n",
      "Modelo:  3964dc6883484094aa60bebb6192b2e1\n",
      "\n",
      "        Modelo: RandomForestClassifier(min_samples_leaf=6, n_estimators=1000, random_state=42)\n",
      "        Acurácia: 0.8408304498269896\n",
      "        Precisão: 0.8359375\n",
      "        Recall: 0.8106060606060606\n",
      "        F1-score: 0.8230769230769232\n",
      "        \n",
      "Modelo:  3964dc6883484094aa60bebb6192b2e1\n",
      "\n",
      "        Modelo: GradientBoostingClassifier(learning_rate=0.01, max_depth=4, n_estimators=1000,\n",
      "                           random_state=42)\n",
      "        Acurácia: 0.8166089965397924\n",
      "        Precisão: 0.8211382113821138\n",
      "        Recall: 0.7651515151515151\n",
      "        F1-score: 0.7921568627450979\n",
      "        \n",
      "Modelo:  3964dc6883484094aa60bebb6192b2e1\n"
     ]
    },
    {
     "data": {
      "image/png": "[encoded data removed]",
      "text/plain": [
       "<Figure size 432x288 with 2 Axes>"
      ]
     },
     "metadata": {
      "needs_background": "light"
     },
     "output_type": "display_data"
    },
    {
     "data": {
      "image/png": "[encoded data removed]",
      "text/plain": [
       "<Figure size 432x288 with 2 Axes>"
      ]
     },
     "metadata": {
      "needs_background": "light"
     },
     "output_type": "display_data"
    },
    {
     "data": {
      "image/png": "[encoded data removed]",
      "text/plain": [
       "<Figure size 432x288 with 2 Axes>"
      ]
     },
     "metadata": {
      "needs_background": "light"
     },
     "output_type": "display_data"
    },
    {
     "data": {
      "image/png": "[encoded data removed]",
      "text/plain": [
       "<Figure size 432x288 with 2 Axes>"
      ]
     },
     "metadata": {
      "needs_background": "light"
     },
     "output_type": "display_data"
    }
   ],
   "source": [
    "\n",
    "mlflow.set_experiment(\"Mamograph\")\n",
    "with mlflow.start_run():\n",
    "    c1 = GaussianNB()\n",
    "    c2 = DecisionTreeClassifier(min_samples_leaf=6)\n",
    "    #estiamdor\n",
    "    ms = 6\n",
    "    c3 = RandomForestClassifier(n_estimators=1000,random_state=42, min_samples_leaf=6)\n",
    "    #estimadores\n",
    "    ne=1000\n",
    "    mrs=6\n",
    "    c4 = GradientBoostingClassifier(n_estimators=1000, learning_rate=0.01, random_state=42, max_depth=4)\n",
    "    #estimadores\n",
    "    nxe=1000\n",
    "    lr=0.01\n",
    "    md=4\n",
    "\n",
    "    clfs =  [c1,c2,c3,c4]\n",
    "    contador=0\n",
    "    contar=0\n",
    "    for clf in clfs:\n",
    "        modelo = clf.fit(X_train, y_train)\n",
    "        previsao = modelo.predict(X_test)\n",
    "        acuracia= accuracy_score(y_test, previsao)\n",
    "        precisao = precision_score(y_test, previsao)\n",
    "        revocacao = recall_score(y_test, previsao)\n",
    "        f1score = f1_score(y_test, previsao)\n",
    "        confusao = confusion_matrix(y_test, previsao)\n",
    "\n",
    "        print(f\"\"\"\n",
    "        Modelo: {clf}\n",
    "        Acurácia: {acuracia}\n",
    "        Precisão: {precisao}\n",
    "        Recall: {revocacao}\n",
    "        F1-score: {f1score}\n",
    "        \"\"\")\n",
    "        #parametros\n",
    "        \n",
    "        if contador==1:\n",
    "            mlflow.log_param(\"min_samples_leaf\", ms)\n",
    "        elif contador ==2:\n",
    "            mlflow.log_param(\"n_estimators\", ne)\n",
    "            mlflow.log_param(\"min_sampels_leaf\", mrs)\n",
    "            \n",
    "        elif contador==3:\n",
    "            mlflow.log_param(\"n_estimators\", nxe)\n",
    "            mlflow.log_param(\"learning_rate\", lr)\n",
    "            mlflow.log_param(\"max-depth\", md)\n",
    "        contador+=1\n",
    "        \n",
    "        categorias = [\"benign\", \"malignant\"]\n",
    "        confusao = ConfusionMatrixDisplay(confusao,display_labels=categorias)\n",
    "        confusao.plot()\n",
    "        plt.savefig(\"confusao.png\")\n",
    "        mlflow.log_artifact(\"confusao.png\")\n",
    "\n",
    "\n",
    "        #metricas\n",
    "        mlflow.log_metric(\"acuracia\", acuracia)\n",
    "        mlflow.log_metric(\"precisao\", precisao)\n",
    "        mlflow.log_metric(\"recall\", revocacao)\n",
    "        mlflow.log_metric(\"f1score\", f1score)\n",
    "      \n",
    "        #modelo\n",
    "        \n",
    "        cla = [\"NaiveBayes\", \"DecisionTress\", \"RandomForest\", \"GradientBoost\"]\n",
    "    \n",
    "        mlflow.sklearn.log_model(modelo,cla[contar])\n",
    "        print(\"Modelo: \", mlflow.active_run().info.run_uuid)\n",
    "        contar+=1\n",
    "\n",
    "mlflow.end_run()"
   ]
  },
  {
   "cell_type": "code",
   "execution_count": null,
   "metadata": {},
   "outputs": [],
   "source": []
  },
  {
   "cell_type": "markdown",
   "metadata": {},
   "source": [
    "## Referências"
   ]
  },
  {
   "cell_type": "markdown",
   "metadata": {},
   "source": [
    "https://archive.ics.uci.edu/ml/datasets/Mammographic+Mass"
   ]
  }
 ],
 "metadata": {
  "interpreter": {
   "hash": "f68f6cd6282cc041c726a556bfd5470992427e6af167974d2a62cfcf0d28baa1"
  },
  "kernelspec": {
   "display_name": "Python 3.10.1 ('newp': venv)",
   "language": "python",
   "name": "python3"
  },
  "language_info": {
   "codemirror_mode": {
    "name": "ipython",
    "version": 3
   },
   "file_extension": ".py",
   "mimetype": "text/x-python",
   "name": "python",
   "nbconvert_exporter": "python",
   "pygments_lexer": "ipython3",
   "version": "3.10.1"
  },
  "orig_nbformat": 4
 },
 "nbformat": 4,
 "nbformat_minor": 2
}
